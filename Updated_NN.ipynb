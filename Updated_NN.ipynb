{
  "cells": [
    {
      "cell_type": "markdown",
      "metadata": {
        "id": "view-in-github",
        "colab_type": "text"
      },
      "source": [
        "<a href=\"https://colab.research.google.com/github/noelfranthomas/471-django/blob/main/Updated_NN.ipynb\" target=\"_parent\"><img src=\"https://colab.research.google.com/assets/colab-badge.svg\" alt=\"Open In Colab\"/></a>"
      ]
    },
    {
      "cell_type": "code",
      "execution_count": null,
      "metadata": {
        "colab": {
          "base_uri": "https://localhost:8080/"
        },
        "id": "wKpCh02UzHBf",
        "outputId": "a432c4cd-e1eb-4238-dee6-ebb1ae02d9a8"
      },
      "outputs": [
        {
          "output_type": "stream",
          "name": "stdout",
          "text": [
            "[[{'weights': [0.15, 0.23]},\n",
            "  {'weights': [0.23, 0.12]},\n",
            "  {'weights': [0.15, 0.24]}],\n",
            " [{'weights': [0.44, 0.58, 0.35]},\n",
            "  {'weights': [0.32, 0.81, 0.92]},\n",
            "  {'weights': [0.43, 0.57, 0.38]}],\n",
            " [{'weights': [0.6, 0.53, 0.39]}]]\n"
          ]
        }
      ],
      "source": [
        "from random import seed\n",
        "from random import random\n",
        "from pprint import pprint\n",
        " \n",
        "# Initialize a network\n",
        "def initialize_network(n_inputs = 0, n_hidden1 = 0, n_hidden2 = 0, n_outputs = 0):\n",
        "    network = list()\n",
        "    #hidden_layer1 = [{'weights':[random() for i in range(n_inputs)]} for i in range(n_hidden1)]\n",
        "    hidden_layer1 = [{'weights':[0.15, 0.23]}, {'weights':[0.23, 0.12]} , {'weights':[0.15, 0.24]}  ]\n",
        "    network.append(hidden_layer1)\n",
        "    #hidden_layer2 = [{'weights':[random() for i in range(n_hidden1)]} for i in range(n_hidden2)]\n",
        "    hidden_layer2 = [{'weights':[0.44, 0.58, 0.35]}, {'weights':[0.32, 0.81, 0.92]}, {'weights':[0.43, 0.57, 0.38]} ]\n",
        "    network.append(hidden_layer2)\n",
        "    #output_layer = [{'weights':[random() for i in range(n_hidden2)]} for i in range(n_outputs)]\n",
        "    output_layer = [{'weights':[0.60, 0.53, 0.39]}] #for i in range(n_outputs)]\n",
        "    network.append(output_layer)\n",
        "    return network\n",
        "\n",
        "network = initialize_network()\n",
        "pprint(network)\n"
      ]
    },
    {
      "cell_type": "code",
      "execution_count": null,
      "metadata": {
        "colab": {
          "base_uri": "https://localhost:8080/"
        },
        "id": "VnXZVJ99zHBg",
        "outputId": "18b9bfbd-f2ee-4038-e918-0489bff5d25d"
      },
      "outputs": [
        {
          "output_type": "stream",
          "name": "stdout",
          "text": [
            "[[{'output': 0.15, 'weights': [0.15, 0.23]},\n",
            "  {'output': 0.23, 'weights': [0.23, 0.12]},\n",
            "  {'output': 0.15, 'weights': [0.15, 0.24]}],\n",
            " [{'output': 0.2519, 'weights': [0.44, 0.58, 0.35]},\n",
            "  {'output': 0.3723, 'weights': [0.32, 0.81, 0.92]},\n",
            "  {'output': 0.2526, 'weights': [0.43, 0.57, 0.38]}],\n",
            " [{'output': 0.446973, 'weights': [0.6, 0.53, 0.39]}]]\n"
          ]
        }
      ],
      "source": [
        "from math import exp\n",
        " \n",
        "# Calculate neuron activation for an input\n",
        "def activate(weights, inputs):\n",
        "    activation = 0 # weights[0]\n",
        "    for i in range(len(weights)):\n",
        "        activation += weights[i] * inputs[i]\n",
        "    return activation\n",
        " \n",
        "# Transfer neuron activation\n",
        "def transfer(activation):\n",
        "    return max(0, activation)\n",
        " \n",
        "# Forward propagate input to a network output\n",
        "def forward_propagate(network, row):\n",
        "    inputs = row\n",
        "    for layer in network:\n",
        "        new_inputs = []\n",
        "        for neuron in layer:\n",
        "            activation = activate(neuron['weights'], inputs)\n",
        "            neuron['output'] = transfer(activation)\n",
        "            new_inputs.append(neuron['output'])\n",
        "        inputs = new_inputs\n",
        "    return inputs\n",
        "\n",
        "# test forward propagation\n",
        "row = [1, 0]\n",
        "output = forward_propagate(network, row)\n",
        "\n",
        "pprint(network)"
      ]
    },
    {
      "cell_type": "code",
      "execution_count": null,
      "metadata": {
        "colab": {
          "base_uri": "https://localhost:8080/"
        },
        "id": "6omRXmIozHBh",
        "outputId": "04bcbd4e-a9b4-446b-ab7e-020cae6d17bf"
      },
      "outputs": [
        {
          "output_type": "stream",
          "name": "stdout",
          "text": [
            "[[{'delta': 119.7224702702, 'output': 0.15, 'weights': [0.15, 0.23]},\n",
            "  {'delta': 199.02641157840003, 'output': 0.23, 'weights': [0.23, 0.12]},\n",
            "  {'delta': 168.4039004732, 'output': 0.15, 'weights': [0.15, 0.24]}],\n",
            " [{'delta': 119.4636324, 'output': 0.2519, 'weights': [0.44, 0.58, 0.35]},\n",
            "  {'delta': 105.52620862, 'output': 0.3723, 'weights': [0.32, 0.81, 0.92]},\n",
            "  {'delta': 77.65136106, 'output': 0.2526, 'weights': [0.43, 0.57, 0.38]}],\n",
            " [{'delta': 199.106054, 'output': 0.446973, 'weights': [0.6, 0.53, 0.39]}]]\n"
          ]
        }
      ],
      "source": [
        "# Calculate the derivative of an neuron output\n",
        "def transfer_derivative(output):\n",
        "    if output > 0:\n",
        "      return 1\n",
        "    return 0\n",
        "\n",
        "    #return lambda output : 1 if (output > 0) else 0\n",
        "\n",
        "def backward_propagate_error(network, expected):\n",
        "    for i in reversed(range(len(network))):\n",
        "        layer = network[i]\n",
        "        errors = list()\n",
        "        if i != len(network)-1:\n",
        "            for j in range(len(layer)):\n",
        "                error = 0.0\n",
        "                for neuron in network[i + 1]:\n",
        "                    error += (neuron['weights'][j] * neuron['delta'])\n",
        "                errors.append(error)\n",
        "        else:\n",
        "            for j in range(len(layer)):\n",
        "                neuron = layer[j]\n",
        "                errors.append(2*(expected[j] - neuron['output']))\n",
        "        for j in range(len(layer)):\n",
        "            neuron = layer[j]\n",
        "            neuron['delta'] = errors[j] * transfer_derivative(neuron['output'])\n",
        "    \n",
        "    \n",
        "# test backpropagation of error\n",
        "expected = [100]\n",
        "backward_propagate_error(network, expected)\n",
        "pprint(network)    "
      ]
    },
    {
      "cell_type": "code",
      "execution_count": null,
      "metadata": {
        "colab": {
          "base_uri": "https://localhost:8080/"
        },
        "id": "FiUcTYKuzHBh",
        "outputId": "810b158d-91b3-43e5-d864-e2e5da1d6eea"
      },
      "outputs": [
        {
          "output_type": "stream",
          "name": "stdout",
          "text": [
            "[[{'delta': 119.7224702702,\n",
            "   'output': 0.15,\n",
            "   'weights': [6.136123513510001, 0.23]},\n",
            "  {'delta': 199.02641157840003,\n",
            "   'output': 0.23,\n",
            "   'weights': [10.181320578920003, 0.12]},\n",
            "  {'delta': 168.4039004732, 'output': 0.15, 'weights': [8.57019502366, 0.24]}],\n",
            " [{'delta': 119.4636324,\n",
            "   'output': 0.2519,\n",
            "   'weights': [1.335977243, 1.9538317726, 1.245977243]},\n",
            "  {'delta': 105.52620862,\n",
            "   'output': 0.3723,\n",
            "   'weights': [1.11144656465, 2.0235513991300005, 1.7114465646500001]},\n",
            "  {'delta': 77.65136106,\n",
            "   'output': 0.2526,\n",
            "   'weights': [1.01238520795, 1.46299065219, 0.9623852079499999]}],\n",
            " [{'delta': 199.106054,\n",
            "   'output': 0.446973,\n",
            "   'weights': [3.1077407501300005, 4.23635919521, 2.90470946202]}]]\n"
          ]
        }
      ],
      "source": [
        "\n",
        "# Update network weights with error\n",
        "def update_weights(network, row, l_rate):\n",
        "    for i in range(len(network)):\n",
        "        inputs = row\n",
        "        if i != 0:\n",
        "            inputs = [neuron['output'] for neuron in network[i - 1]]\n",
        "        for neuron in network[i]:\n",
        "            for j in range(len(inputs)):\n",
        "                neuron['weights'][j] += l_rate * neuron['delta'] * inputs[j]\n",
        "                # neuron['weights'][-1] += l_rate * neuron['delta'] <-- ?\n",
        "\n",
        "update_weights(network, row, 0.05)\n",
        "pprint(network)\n"
      ]
    },
    {
      "cell_type": "code",
      "execution_count": null,
      "metadata": {
        "id": "tGg7BkcKzHBi"
      },
      "outputs": [],
      "source": [
        ""
      ]
    },
    {
      "cell_type": "code",
      "execution_count": null,
      "metadata": {
        "id": "mG3g9mZnzHBi"
      },
      "outputs": [],
      "source": [
        ""
      ]
    }
  ],
  "metadata": {
    "kernelspec": {
      "display_name": "Python 3",
      "language": "python",
      "name": "python3"
    },
    "language_info": {
      "codemirror_mode": {
        "name": "ipython",
        "version": 3
      },
      "file_extension": ".py",
      "mimetype": "text/x-python",
      "name": "python",
      "nbconvert_exporter": "python",
      "pygments_lexer": "ipython3",
      "version": "3.8.5"
    },
    "colab": {
      "name": "Updated_NN.ipynb",
      "provenance": [],
      "collapsed_sections": [],
      "include_colab_link": true
    }
  },
  "nbformat": 4,
  "nbformat_minor": 0
}